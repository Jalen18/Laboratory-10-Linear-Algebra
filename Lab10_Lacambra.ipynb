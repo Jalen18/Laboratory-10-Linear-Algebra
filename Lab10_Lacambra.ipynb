{
  "nbformat": 4,
  "nbformat_minor": 0,
  "metadata": {
    "colab": {
      "name": "Lab10_Lacambra.ipynb",
      "private_outputs": true,
      "provenance": [],
      "authorship_tag": "ABX9TyMU7tBmkzjoZLtuEejIA4N6",
      "include_colab_link": true
    },
    "kernelspec": {
      "name": "python3",
      "display_name": "Python 3"
    },
    "language_info": {
      "name": "python"
    }
  },
  "cells": [
    {
      "cell_type": "markdown",
      "metadata": {
        "id": "view-in-github",
        "colab_type": "text"
      },
      "source": [
        "<a href=\"https://colab.research.google.com/github/Jalen18/Laboratory-10-Linear-Algebra/blob/main/Lab10_Lacambra.ipynb\" target=\"_parent\"><img src=\"https://colab.research.google.com/assets/colab-badge.svg\" alt=\"Open In Colab\"/></a>"
      ]
    },
    {
      "cell_type": "markdown",
      "metadata": {
        "id": "yDXm2Yrs6OKP"
      },
      "source": [
        "## Supplementary Activity"
      ]
    },
    {
      "cell_type": "markdown",
      "metadata": {
        "id": "P_eIlvJS6VKH"
      },
      "source": [
        "Try to implement the linear transformations using spancs using the scatteplot view. Just do at least one example of linear transformation for a 2D space."
      ]
    },
    {
      "cell_type": "code",
      "metadata": {
        "id": "CsZaGZYY6NCq"
      },
      "source": [
        "import matplotlib.pyplot as plt\n",
        "import numpy as np\n",
        "%matplotlib inline"
      ],
      "execution_count": null,
      "outputs": []
    },
    {
      "cell_type": "code",
      "metadata": {
        "id": "dq_ErdMU6s0F"
      },
      "source": [
        "E = np.array([\n",
        "    [5,2],\n",
        "    [2,5]\n",
        "])\n",
        "\n",
        "def scatter(j):\n",
        "    size= (7,7)\n",
        "    plt.figure(figsize=(5,5))\n",
        "    plt.xlim(-size[0],size[0])\n",
        "    plt.ylim(-size[1],size[1])\n",
        "    plt.xticks(np.arange((-size[0]), size[0]+1, 1.0))\n",
        "    plt.yticks(np.arange((-size[1]), size[1]+1, 1.0))\n",
        "    plt.scatter(j[0,:], j[1,:] )\n",
        "    plt.grid()\n",
        "    plt.show()\n",
        "\n",
        "def rot_matrix(theta):\n",
        "    theta = np.deg2rad(theta)\n",
        "    rot_mat = np.array([\n",
        "        [np.cos(theta), -np.sin(theta)],\n",
        "        [np.sin(theta), np.cos(theta)]\n",
        "    ])\n",
        "    return rot_mat\n",
        "\n",
        "rotate = rot_matrix(90)\n",
        "scatter(E)\n",
        "return_matrix(E)\n",
        "scatter(E @ rotate)\n",
        "return_matrix(E @ rotate)\n"
      ],
      "execution_count": null,
      "outputs": []
    },
    {
      "cell_type": "code",
      "metadata": {
        "id": "4kxp7opmBCK6"
      },
      "source": [
        ""
      ],
      "execution_count": null,
      "outputs": []
    }
  ]
}